{
 "cells": [
  {
   "cell_type": "markdown",
   "metadata": {},
   "source": [
    "### to test function written in cytnx"
   ]
  },
  {
   "cell_type": "code",
   "execution_count": 5,
   "metadata": {},
   "outputs": [],
   "source": [
    "import numpy as np\n",
    "from scipy import linalg\n",
    "import cytnx as cy \n",
    "import matplotlib.pyplot as plt\n",
    "import pandas as pd\n",
    "\n",
    "\n",
    "def mappingDtype2Cytnx(dpp):\n",
    "    mapping = {'float':cy.Type.Float,\n",
    "               'int':cy.Type.Int32,\n",
    "               'complex':cy.Type.ComplexFloat,\n",
    "               'bool':cy.Type.Bool}\n",
    "    try:\n",
    "        return mapping[dpp]\n",
    "    except KeyError:\n",
    "        print(\"no key {} inside mapping dtype function\".format(dpp))"
   ]
  },
  {
   "cell_type": "code",
   "execution_count": 38,
   "metadata": {},
   "outputs": [
    {
     "name": "stdout",
     "output_type": "stream",
     "text": [
      "Tensor name: \n",
      "braket_form : False\n",
      "is_diag    : False\n",
      "\n",
      "Total elem: 1\n",
      "type  : Float32\n",
      "cytnx device: CPU\n",
      "Shape : (1)\n",
      "[0.00000e+00 ]\n",
      "\n",
      "\n",
      "\n",
      "\n"
     ]
    }
   ],
   "source": [
    "N = 2\n",
    "beta = 1\n",
    "dpp = 'float'\n",
    "Cydtype = mappingDtype2Cytnx(dpp)\n",
    "\n",
    "        \n",
    "weightMatrix = np.array([[np.exp(beta),np.exp(-1*beta)],\n",
    "                                 [np.exp(-1*beta),np.exp(beta)]])\n",
    "weightMatrix = cy.from_numpy(weightMatrix)\n",
    "#print(weightMatrix)\n",
    "pureNode = cy.zeros((N,N,N,N),dtype=Cydtype)\n",
    "pureNode[0,0,0,0] = pureNode[1,1,1,1] = 1\n",
    "impureNode = cy.zeros((N,N,N,N),dtype=Cydtype)\n",
    "impureNode[0,0,0,0] = 1;impureNode[1,1,1,1] = -1\n",
    "Uni_pureNode = cy.UniTensor([cy.Bond(2),cy.Bond(2),cy.Bond(2),cy.Bond(2)],rowrank=2)\n",
    "Uni_pureNode.put_block(pureNode)\n",
    "Uni_impureNode = cy.UniTensor([cy.Bond(2),cy.Bond(2),cy.Bond(2),cy.Bond(2)],rowrank=2)\n",
    "Uni_impureNode.put_block(impureNode)\n",
    "S,U = cy.linalg.Eig(weightMatrix)\n",
    "\n"
   ]
  },
  {
   "cell_type": "code",
   "execution_count": null,
   "metadata": {},
   "outputs": [],
   "source": [
    "\n",
    "print(Uni_pureNode.contract(Uni_impureNode))"
   ]
  }
 ],
 "metadata": {
  "kernelspec": {
   "display_name": "Python 3",
   "language": "python",
   "name": "python3"
  },
  "language_info": {
   "codemirror_mode": {
    "name": "ipython",
    "version": 3
   },
   "file_extension": ".py",
   "mimetype": "text/x-python",
   "name": "python",
   "nbconvert_exporter": "python",
   "pygments_lexer": "ipython3",
   "version": "3.6.8"
  }
 },
 "nbformat": 4,
 "nbformat_minor": 2
}
