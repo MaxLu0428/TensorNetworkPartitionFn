{
 "cells": [
  {
   "cell_type": "code",
   "execution_count": 1,
   "metadata": {},
   "outputs": [
    {
     "name": "stdout",
     "output_type": "stream",
     "text": [
      "-----------------------\n",
      "tensor Name : \n",
      "tensor Rank : 4\n",
      "block_form  : false\n",
      "is_diag     : False\n",
      "on device   : cytnx device: CPU\n",
      "            -------------      \n",
      "           /             \\     \n",
      "     0 ____| 1         3 |____ 2  \n",
      "           |             |     \n",
      "     1 ____| 2         1 |____ 0  \n",
      "           \\             /     \n",
      "            -------------      \n"
     ]
    }
   ],
   "source": [
    "import numpy as np\n",
    "import cytnx as cy\n",
    "\n",
    "test = cy.UniTensor([cy.Bond(1),cy.Bond(2),cy.Bond(3),cy.Bond(4)],rowrank=2)\n",
    "mat  = np.arange(24).reshape(1,2,3,4)\n",
    "tensor = cy.from_numpy(mat)\n",
    "test.put_block_(tensor)\n",
    "test.permute_([0,1,2,0],rowrank=2)\n",
    "\n",
    "test.print_diagram()\n"
   ]
  },
  {
   "cell_type": "code",
   "execution_count": 2,
   "metadata": {},
   "outputs": [
    {
     "name": "stdout",
     "output_type": "stream",
     "text": [
      "Tensor name: \n",
      "braket_form : False\n",
      "is_diag    : False\n"
     ]
    },
    {
     "ename": "RuntimeError",
     "evalue": "\n# Cytnx error occur at virtual void cytnx::Int64Storage::PrintElem_byShape(std::ostream&, const std::vector<long unsigned int>&, const std::vector<long unsigned int>&)\n# error: PrintElem_byShape, the number of shape not match with the No. of elements.\n# file : /home/travis/miniconda/envs/test-environment/conda-bld/cytnx_1600323034980/work/src/Int64Storage.cpp (211)",
     "output_type": "error",
     "traceback": [
      "\u001b[0;31m---------------------------------------------------------------------------\u001b[0m",
      "\u001b[0;31mRuntimeError\u001b[0m                              Traceback (most recent call last)",
      "\u001b[0;32m<ipython-input-2-4ddfce83ccd5>\u001b[0m in \u001b[0;36m<module>\u001b[0;34m()\u001b[0m\n\u001b[0;32m----> 1\u001b[0;31m \u001b[0mprint\u001b[0m\u001b[0;34m(\u001b[0m\u001b[0mtest\u001b[0m\u001b[0;34m)\u001b[0m\u001b[0;34m\u001b[0m\u001b[0;34m\u001b[0m\u001b[0m\n\u001b[0m",
      "\u001b[0;31mRuntimeError\u001b[0m: \n# Cytnx error occur at virtual void cytnx::Int64Storage::PrintElem_byShape(std::ostream&, const std::vector<long unsigned int>&, const std::vector<long unsigned int>&)\n# error: PrintElem_byShape, the number of shape not match with the No. of elements.\n# file : /home/travis/miniconda/envs/test-environment/conda-bld/cytnx_1600323034980/work/src/Int64Storage.cpp (211)"
     ]
    }
   ],
   "source": [
    "print(test)"
   ]
  },
  {
   "cell_type": "code",
   "execution_count": null,
   "metadata": {},
   "outputs": [],
   "source": []
  }
 ],
 "metadata": {
  "kernelspec": {
   "display_name": "Python 3",
   "language": "python",
   "name": "python3"
  },
  "language_info": {
   "codemirror_mode": {
    "name": "ipython",
    "version": 3
   },
   "file_extension": ".py",
   "mimetype": "text/x-python",
   "name": "python",
   "nbconvert_exporter": "python",
   "pygments_lexer": "ipython3",
   "version": "3.6.8"
  }
 },
 "nbformat": 4,
 "nbformat_minor": 2
}
