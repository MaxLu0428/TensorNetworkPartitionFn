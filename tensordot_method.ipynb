{
 "cells": [
  {
   "cell_type": "code",
   "execution_count": null,
   "metadata": {
    "id": "YighW5K0iiOz"
   },
   "outputs": [],
   "source": [
    "import numpy as np\n",
    "import matplotlib.pyplot as plt\n",
    "import pandas as pd"
   ]
  },
  {
   "cell_type": "code",
   "execution_count": null,
   "metadata": {
    "id": "spxn1CMSiiO7"
   },
   "outputs": [],
   "source": [
    "# parameters\n",
    "J = 1\n",
    "kB = 1\n",
    "Tc = 2/np.log(1+np.sqrt(2))\n",
    "Kc = np.log(1+np.sqrt(2))/2"
   ]
  },
  {
   "cell_type": "markdown",
   "metadata": {
    "id": "5WJisWhqiiPK"
   },
   "source": [
    "## Exact solution for 2x2 lattice"
   ]
  },
  {
   "cell_type": "code",
   "execution_count": null,
   "metadata": {
    "id": "1wzbWU-YiiPP"
   },
   "outputs": [],
   "source": [
    "#  exact solution for 2 by 2 lattice\n",
    "def exact(T):\n",
    "    beta = 1 / (kB*T)\n",
    "    Z = 2*np.exp(8*beta)+12+2*np.exp(-8*beta)\n",
    "    F = -np.log(Z)/beta\n",
    "    E = -(2*8*np.exp(8*beta)+2*(-8)*np.exp(-8*beta))/Z\n",
    "    E_sqr = (2*64*np.exp(8*beta) +2*64*np.exp(-8*beta))/Z\n",
    "    C = (E_sqr-E*E)*(beta*beta)\n",
    "    M_abs = (2*4*np.exp(8*beta)+8*2)/Z\n",
    "    M_sqr = (2*16*np.exp(8*beta)+8*4)/Z\n",
    "    chi_p = (M_sqr-M_abs*M_abs)*beta\n",
    "    \n",
    "    return Z, E"
   ]
  },
  {
   "cell_type": "markdown",
   "metadata": {
    "id": "u4U9cw8liiPr"
   },
   "source": [
    "## Bare tensors"
   ]
  },
  {
   "cell_type": "code",
   "execution_count": null,
   "metadata": {
    "id": "Bisv-PqLiiPs"
   },
   "outputs": [],
   "source": [
    "#==================================================================#\n",
    "##\n",
    "##       3          3       \n",
    "##     2--(TO)--0     2--(T1)--0\n",
    "##       1          1  \n",
    "##\n",
    "##       3          3 \n",
    "##     2--(T3)--0     2--(T2)--0\n",
    "##       1          1 \n",
    "#==================================================================#"
   ]
  },
  {
   "cell_type": "markdown",
   "metadata": {
    "id": "khvoT9wTiiP8"
   },
   "source": [
    "## Contraction on a 2x2 lattice\n",
    "\n",
    "Construct bare tensors $T$ and $T_z$ for the 2D Ising model.\n",
    "\n",
    "Perform exact contract on a 2x2 lattice to obtain\n",
    "* Partition function $Z$.\n",
    "* Energy per bond. (via <S(0,0) S(0,1)>).\n",
    "* Correlation at maximal distance <S(0,0> S(1,1)>.\n",
    "\n",
    "Compare to the exact results on a 2x2 lattice."
   ]
  },
  {
   "cell_type": "code",
   "execution_count": null,
   "metadata": {
    "id": "eczvmllUiiP_"
   },
   "outputs": [],
   "source": [
    "def W_matrix(T):\n",
    "    return np.array([[np.sqrt(np.cosh(1/T)), np.sqrt(np.sinh(1/T))],\n",
    "                     [np.sqrt(np.cosh(1/T)), -np.sqrt(np.sinh(1/T))]])\n",
    "\n",
    "def eval_TM_Tz(T):\n",
    "    W = W_matrix(T)\n",
    "    TM = np.zeros((2,2,2,2))\n",
    "    Tz = np.zeros((2,2,2,2))\n",
    "    for a in range(2):\n",
    "        for i in range(2):\n",
    "            for j in range(2):\n",
    "                for k in range(2):\n",
    "                    for l in range(2):\n",
    "                        TM[i, j, k, l] += W[a, i] * W[a, j] * W[a, k] * W[a, l]\n",
    "                        Tz[i, j, k, l] += W[a, i] * W[a, j] * W[a, k] * W[a, l] * (-1)**a\n",
    "    return TM, Tz"
   ]
  },
  {
   "cell_type": "code",
   "execution_count": null,
   "metadata": {
    "id": "-AFdPaGBiiQO"
   },
   "outputs": [],
   "source": [
    "#==================================================================#\n",
    "##\n",
    "##       3          3       \n",
    "##     2--(TO)--0     2--(T1)--0\n",
    "##       1          1  \n",
    "##\n",
    "##       3          3 \n",
    "##     2--(T3)--0     2--(T2)--0\n",
    "##       1          1 \n",
    "#==================================================================#"
   ]
  },
  {
   "cell_type": "code",
   "execution_count": null,
   "metadata": {
    "id": "L7QZNjj9iiQT"
   },
   "outputs": [],
   "source": [
    "#==================================================================#\n",
    "##\n",
    "##       |          |       \n",
    "##     1--(TO --0     1--(T1 --0\n",
    "#      3--T3)--2      3--T2)--2\n",
    "##       |          |  \n",
    "##\n",
    "#==================================================================#"
   ]
  },
  {
   "cell_type": "code",
   "execution_count": null,
   "metadata": {
    "id": "lRUpAS29iiQd"
   },
   "outputs": [],
   "source": [
    "def contraction_2x2 (T0, T1, T2, T3):\n",
    "    T0T3 = np.tensordot(T0, T3, ([1,3],[3,1]))\n",
    "    T1T2 = np.tensordot(T1, T2, ([1,3],[3,1]))\n",
    "    T0123 = np.tensordot(T0T3, T1T2, ([0,1,2,3],[1,0,3,2]))\n",
    "    return T0123"
   ]
  },
  {
   "cell_type": "code",
   "execution_count": null,
   "metadata": {
    "id": "FQN4WiEWiI3G"
   },
   "outputs": [],
   "source": []
  },
  {
   "cell_type": "code",
   "execution_count": null,
   "metadata": {
    "id": "HGSqPpQbiiQi"
   },
   "outputs": [],
   "source": [
    "def eval_td(T_min, T_max, exported_file_name):\n",
    "    T_array = np.linspace(T_min, T_max, 1000)\n",
    "    n = m = 2\n",
    "    number_of_bonds = 2*4\n",
    "    lnZ_over_mn_array = np.zeros_like(T_array)\n",
    "    E_td_over_mn_array = np.zeros_like(T_array)\n",
    "    C_td_over_mn_array = np.zeros_like(T_array)\n",
    "        \n",
    "    for j in range(len(T_array)):\n",
    "        T = T_array[j]\n",
    "        TM, Tz = eval_TM_Tz(T)\n",
    "        # Z_td[i] = contraction_2x2 (TM, TM, TM, TM)\n",
    "        lnZ_over_mn_array[j] = np.log(contraction_2x2 (TM, TM, TM, TM)) / (m * n)\n",
    "        E_td_over_mn_array[j] = -J * contraction_2x2 (Tz, Tz, TM, TM) / contraction_2x2 (TM, TM, TM, TM) * number_of_bonds / (m*n)\n",
    "    data = pd.DataFrame({'T'       : T_array,\n",
    "              'lnZ_over_mn'  : lnZ_over_mn_array,\n",
    "              'E_td_over_mn' : E_td_over_mn_array})\n",
    "    data.to_csv('%s (m = %.d).csv' %(exported_file_name, m))"
   ]
  },
  {
   "cell_type": "code",
   "execution_count": null,
   "metadata": {
    "id": "Q-3brzOb8Vn4"
   },
   "outputs": [],
   "source": [
    "eval_td(T_min=1, T_max=4, exported_file_name = 'tensordot_data_1')"
   ]
  },
  {
   "cell_type": "markdown",
   "metadata": {
    "id": "u_HkQ7VRiiQr"
   },
   "source": [
    "Correlation at maximal distance <S(0,0> S(1,1)>"
   ]
  },
  {
   "cell_type": "code",
   "execution_count": null,
   "metadata": {
    "colab": {
     "base_uri": "https://localhost:8080/",
     "height": 296
    },
    "id": "g22iPeiViiQs",
    "outputId": "08126915-c020-42e7-97a8-34abb83a8599"
   },
   "outputs": [
    {
     "data": {
      "text/plain": [
       "Text(0, 0.5, '<S(0,0)S(1,1)>')"
      ]
     },
     "execution_count": 11,
     "metadata": {
      "tags": []
     },
     "output_type": "execute_result"
    },
    {
     "data": {
      "image/png": "[encoded data removed]",
      "text/plain": [
       "<Figure size 432x288 with 1 Axes>"
      ]
     },
     "metadata": {
      "needs_background": "light",
      "tags": []
     },
     "output_type": "display_data"
    }
   ],
   "source": [
    "T = np.linspace(1, 20, 1000)\n",
    "\n",
    "S00S11 = np.zeros_like(T)\n",
    "\n",
    "for i in range(len(T)):\n",
    "    TM, Tz = eval_TM_Tz(T[i])\n",
    "    S00S11[i] = contraction_2x2 (Tz, TM, Tz, TM) / contraction_2x2 (TM, TM, TM, TM)\n",
    "\n",
    "plt.plot(T, S00S11, label =('tensor network'))\n",
    "plt.legend(loc='upper right')\n",
    "plt.grid()\n",
    "plt.xlabel('T')\n",
    "plt.ylabel('<S(0,0)S(1,1)>')"
   ]
  },
  {
   "cell_type": "markdown",
   "metadata": {
    "id": "iIC62--1wuw1"
   },
   "source": [
    "## Contraction on a 4x4 lattice"
   ]
  },
  {
   "cell_type": "markdown",
   "metadata": {
    "id": "BByDEqwFz_tu"
   },
   "source": [
    "* Contract vertical first:"
   ]
  },
  {
   "cell_type": "code",
   "execution_count": null,
   "metadata": {
    "id": "ijXBIKVdiiQy"
   },
   "outputs": [],
   "source": [
    "#==============================================================================================================================#\n",
    "##          3              2                5'\n",
    "##     2--(T0)--0      1--(T0--0      4'--(T0--0'                  \n",
    "##          1              |                |                         3(D2)\n",
    "##               -->       |      -->       |        -->      2(D4)--(T0T3)--0(D4)\n",
    "##          3              |                |                         1(D2)\n",
    "##     2--(T3)--0      5--T3)--3       3'--T3)--1'                  \n",
    "##          1              4                2'\n",
    "#==============================================================================================================================#"
   ]
  },
  {
   "cell_type": "code",
   "execution_count": null,
   "metadata": {
    "id": "MlyMDiWPiiQ8"
   },
   "outputs": [],
   "source": [
    "def contraction_vertical(T0, T3):\n",
    "    T0T3 = np.tensordot(T0, T3, ([1,3]))\n",
    "    # (0,3,4,5,1,2) --> (0',1',2',3',4',5')\n",
    "    T0T3_transpose = np.transpose(T0T3, (0,3,4,5,1,2))\n",
    "    T0T3_reshape   = np.reshape(T0T3_transpose, (4, 2, 4, 2))\n",
    "    return T0T3_reshape"
   ]
  },
  {
   "cell_type": "code",
   "execution_count": null,
   "metadata": {
    "id": "qnLZYJ64iiRB"
   },
   "outputs": [],
   "source": [
    "#==============================================================================================================================#\n",
    "##\n",
    "##           3              3                     2   5                     4'  5'                        3(D4)\n",
    "##     2--(T0T3)--0    2--(T1T2)--0    -->    1--(T0123)--3    -->     3'--(T0123)--0'    -->     2(D4)--(T0123)--0(D4)\n",
    "##           1              1                     0   4                     2'  1'                        1(D4)\n",
    "##\n",
    "#==============================================================================================================================#"
   ]
  },
  {
   "cell_type": "code",
   "execution_count": null,
   "metadata": {
    "id": "YJ7fX8C-iiRG"
   },
   "outputs": [],
   "source": [
    "def contraction_4x4_vertical(T0, T1, T2, T3):\n",
    "    T0T3  = contraction_vertical(T0, T3)\n",
    "    T1T2  = contraction_vertical(T1, T2)\n",
    "    T0123 = np.tensordot(T0T3, T1T2, ([0,2]))\n",
    "    # (3,4,0,1,2,5) --> (0',1',2',3',4',5')\n",
    "    T0123_transpose = np.transpose(T0123, (3,4,0,1,2,5))\n",
    "    T0123_reshape   = np.reshape(T0123_transpose, (4, 4, 4, 4))\n",
    "    return T0123_reshape"
   ]
  },
  {
   "cell_type": "markdown",
   "metadata": {
    "id": "wkbN4JGS0twc"
   },
   "source": [
    "* Contract horizontal first"
   ]
  },
  {
   "cell_type": "code",
   "execution_count": null,
   "metadata": {
    "id": "SLGHvdoyxIRp"
   },
   "outputs": [],
   "source": [
    "#==============================================================================================================================#\n",
    "##\n",
    "##          3             3                   2  5                     4' 5'                        3(D4)\n",
    "##     2--(T0)--0    2--(T1)--0    -->    1--(T0T1)--3    -->     3'--(T0T1)--0'    -->     2(D2)--(T0T1)--0(D2)\n",
    "##          1             1                   0  4                     2' 1'                        1(D4)\n",
    "##\n",
    "#==============================================================================================================================#"
   ]
  },
  {
   "cell_type": "code",
   "execution_count": null,
   "metadata": {
    "id": "W5hPz6XQxIFA"
   },
   "outputs": [],
   "source": [
    "def contraction_horizontal(T0, T1):\n",
    "    T0T1 = np.tensordot(T0, T1, ([0,2]))\n",
    "    # (3,4,0,1,2,5) --> (0',1',2',3',4',5')\n",
    "    T0T1_transpose = np.transpose(T0T1, (3,4,0,1,2,5))\n",
    "    T0T1_reshape   = np.reshape(T0T1_transpose, (2, 4, 2, 4))\n",
    "    return T0T1_reshape"
   ]
  },
  {
   "cell_type": "code",
   "execution_count": null,
   "metadata": {
    "id": "OGIPsROAxHo8"
   },
   "outputs": [],
   "source": [
    "#==============================================================================================================================#\n",
    "##           3                    2                      5'\n",
    "##     2--(T0T1)--0          1--(T0T1--0           4'--(T0T1--0'                  \n",
    "##           1                    |                      |                         3(D4)\n",
    "##                     -->        |        -->           |        -->      2(D4)--(T0123)--0(D4)\n",
    "##           3                    |                      |                         1(D4)\n",
    "##     2--(T3T2)--0          5--T3T2)--3           3'--T3T2)--1'                  \n",
    "##           1                    4                      2'\n",
    "#==============================================================================================================================#"
   ]
  },
  {
   "cell_type": "code",
   "execution_count": null,
   "metadata": {
    "id": "dQfWh5uz36A7"
   },
   "outputs": [],
   "source": [
    "def contraction_4x4_horizontal(T0, T1, T2, T3):\n",
    "    T0T1  = contraction_horizontal(T0, T1)\n",
    "    T3T2  = contraction_horizontal(T3, T2)\n",
    "    T0123 = np.tensordot(T0T1, T3T2, ([1,3]))\n",
    "    # (0,3,4,5,1,2) --> (0',1',2',3',4',5')\n",
    "    T0123_transpose = np.transpose(T0123, (0,3,4,5,1,2))\n",
    "    T0123_reshape  = np.reshape(T0123_transpose, (4, 4, 4, 4))\n",
    "    return T0123_reshape"
   ]
  },
  {
   "cell_type": "code",
   "execution_count": null,
   "metadata": {
    "colab": {
     "base_uri": "https://localhost:8080/",
     "height": 34
    },
    "id": "WzhAzGc8mSDT",
    "outputId": "c267225e-e7c8-491f-b10d-a29a64e236c3"
   },
   "outputs": [
    {
     "name": "stdout",
     "output_type": "stream",
     "text": [
      "4\n"
     ]
    }
   ],
   "source": [
    "T = 3\n",
    "TM, Tz = eval_TM_Tz(T)\n",
    "TM_tilde_1 = contraction_4x4_vertical(TM, TM, TM, TM)\n",
    "print(len(TM_tilde_1))"
   ]
  },
  {
   "cell_type": "markdown",
   "metadata": {
    "id": "GIyX3P_D6EZK"
   },
   "source": []
  },
  {
   "cell_type": "code",
   "execution_count": null,
   "metadata": {
    "colab": {
     "base_uri": "https://localhost:8080/",
     "height": 246
    },
    "id": "vE_oR9eyiiRM",
    "outputId": "208b54d8-39c2-40e7-a2e0-0dd3b228ee68"
   },
   "outputs": [
    {
     "data": {
      "text/plain": [
       "Text(0, 0.5, '<S(0,0)S(2,2)>')"
      ]
     },
     "execution_count": 21,
     "metadata": {
      "tags": []
     },
     "output_type": "execute_result"
    },
    {
     "data": {
      "image/png": "[encoded data removed]",
      "text/plain": [
       "<Figure size 1440x288 with 3 Axes>"
      ]
     },
     "metadata": {
      "needs_background": "light",
      "tags": []
     },
     "output_type": "display_data"
    }
   ],
   "source": [
    "T = np.linspace(1, 4, 1000)\n",
    "\n",
    "Z_tn = np.zeros_like(T)\n",
    "E_per_bond_tn = np.zeros_like(T)\n",
    "S00S22 = np.zeros_like(T)\n",
    "\n",
    "for i in range(len(T)):\n",
    "    TM, Tz = eval_TM_Tz(T[i])\n",
    "    TM_tilde = contraction_4x4_vertical(TM, TM, TM, TM)\n",
    "    Tz_1  = contraction_4x4_vertical(Tz, Tz, TM, TM)\n",
    "    Tz_2  = contraction_4x4_vertical(Tz, TM, TM, TM)\n",
    "    Z_tn[i]  = contraction_2x2 (TM_tilde, TM_tilde, TM_tilde, TM_tilde)\n",
    "    E_per_bond_tn[i] = -J * contraction_2x2 (Tz_1, TM_tilde, TM_tilde, TM_tilde) / Z_tn[i]\n",
    "    S00S22[i] = contraction_2x2 (Tz_2, TM_tilde, Tz_2, TM_tilde) / Z_tn[i]\n",
    "    E_tn = E_per_bond_tn * (2**(4+1))\n",
    "    \n",
    "#for i in range(len(T)):\n",
    "    #TM, Tz = eval_TM_Tz(T[i])\n",
    "    #Z_tn[i] = contraction_2x2 (TM, TM, TM, TM)\n",
    "    #E_per_bond_tn[i] = -J * contraction_2x2 (Tz, Tz, TM, TM) / Z_tn[i]\n",
    "    #Z_exact[i], E_exact[i] = exact(T[i])\n",
    "    #E_per_bond_exact = E_exact / 8\n",
    "\n",
    "plt.figure(figsize=(20, 4))\n",
    "plt.subplot(1, 3, 1)    \n",
    "plt.plot(T, np.log(Z_tn)/(4*4), label =('tensor network'))\n",
    "plt.legend(loc='upper right')\n",
    "plt.grid()\n",
    "plt.xlabel('T')\n",
    "plt.ylabel('ln(Z) / (4*4)')\n",
    "\n",
    "plt.subplot(1, 3, 2)    \n",
    "plt.plot(T, E_tn/(4*4), label =('tensor network'))\n",
    "plt.legend(loc='upper right')\n",
    "plt.grid()\n",
    "plt.xlabel('T')\n",
    "plt.ylabel('E / (4*4)')\n",
    "\n",
    "plt.subplot(1, 3, 3)    \n",
    "plt.plot(T, S00S22, label =('tensor network'))\n",
    "plt.legend(loc='upper right')\n",
    "plt.grid()\n",
    "plt.xlabel('T')\n",
    "plt.ylabel('<S(0,0)S(2,2)>')"
   ]
  },
  {
   "cell_type": "code",
   "execution_count": null,
   "metadata": {
    "id": "QRxYVM9UiiRR"
   },
   "outputs": [],
   "source": [
    "def eval_td_4x4(T_min, T_max, exported_file_name):\n",
    "    T_array = np.linspace(T_min, T_max, 1000)\n",
    "    n = m = 4\n",
    "    number_of_bonds = 2*m*n\n",
    "    lnZ_over_mn_array = np.zeros_like(T_array)\n",
    "    E_td_over_mn_array = np.zeros_like(T_array)\n",
    "    C_td_over_mn_array = np.zeros_like(T_array)\n",
    "    TM_4x4_max_array = np.zeros_like(T_array)\n",
    "    Tz_4x4_max_array = np.zeros_like(T_array)\n",
    "    for j in range(len(T_array)):\n",
    "        T = T_array[j]\n",
    "        # first contraction\n",
    "        TM, Tz = eval_TM_Tz(T)\n",
    "        # ruduce the values of TM and Tz\n",
    "        M1  = np.max(np.max(TM), np.max(Tz))\n",
    "        TM1 = TM / M1\n",
    "        Tz1 = Tz / M1\n",
    "        # second contraction\n",
    "        TM_tilde = contraction_4x4_vertical(TM1, TM1, TM1, TM1)\n",
    "        Tz_tilde = contraction_4x4_vertical(Tz1, Tz1, TM1, TM1)\n",
    "        # ruduce the values of TM_tilde and Tz_tilde\n",
    "        M2  = np.max(np.max(TM_tilde), np.max(Tz_tilde))\n",
    "        TM2 = TM_tilde / M2\n",
    "        Tz2 = Tz_tilde / M2\n",
    "        # trace outside\n",
    "        # Z = contraction_2x2(TM2, TM2, TM2, TM2) * (M1)**(m*n) * (M2)**(np.sqrt((m*n))\n",
    "        lnZ_over_mn_array[j]  = 1/(m*n) * np.log(contraction_2x2(TM2, TM2, TM2, TM2)) + np.log(M1) + 1/np.sqrt(m*n) * np.log(M2)\n",
    "        E_td_over_mn_array[j] = -J * contraction_2x2 (Tz2, Tz2, TM2, TM2) / contraction_2x2(TM2, TM2, TM2, TM2) * number_of_bonds / (m*n)\n",
    "    data = pd.DataFrame({'T'       : T_array,\n",
    "                        'lnZ_over_mn'  : lnZ_over_mn_array,\n",
    "                        'E_td_over_mn' : E_td_over_mn_array})\n",
    "    data.to_csv('%s (m = %.d).csv' %(exported_file_name, m))"
   ]
  },
  {
   "cell_type": "code",
   "execution_count": null,
   "metadata": {
    "id": "K2rNC6W0fWQf"
   },
   "outputs": [],
   "source": []
  }
 ],
 "metadata": {
  "colab": {
   "collapsed_sections": [],
   "name": "tensordot_method.ipynb",
   "provenance": [],
   "toc_visible": true
  },
  "kernelspec": {
   "display_name": "Python 3",
   "language": "python",
   "name": "python3"
  },
  "language_info": {
   "codemirror_mode": {
    "name": "ipython",
    "version": 3
   },
   "file_extension": ".py",
   "mimetype": "text/x-python",
   "name": "python",
   "nbconvert_exporter": "python",
   "pygments_lexer": "ipython3",
   "version": "3.6.8"
  }
 },
 "nbformat": 4,
 "nbformat_minor": 1
}
