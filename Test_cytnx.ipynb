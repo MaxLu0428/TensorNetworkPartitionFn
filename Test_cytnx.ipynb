{
 "cells": [
  {
   "cell_type": "markdown",
   "metadata": {},
   "source": [
    "### to test function written in cytnx"
   ]
  },
  {
   "cell_type": "code",
   "execution_count": 1,
   "metadata": {},
   "outputs": [],
   "source": [
    "import numpy as np\n",
    "from scipy import linalg\n",
    "import cytnx as cy \n",
    "import matplotlib.pyplot as plt\n",
    "import pandas as pd\n",
    "\n",
    "\n",
    "def mappingDtype2Cytnx(dpp):\n",
    "    mapping = {'float':cy.Type.Float,\n",
    "               'int':cy.Type.Int32,\n",
    "               'complex':cy.Type.ComplexFloat,\n",
    "               'bool':cy.Type.Bool}\n",
    "    try:\n",
    "        return mapping[dpp]\n",
    "    except KeyError:\n",
    "        print(\"no key {} inside mapping dtype function\".format(dpp))"
   ]
  },
  {
   "cell_type": "code",
   "execution_count": 3,
   "metadata": {},
   "outputs": [],
   "source": [
    "N = 2\n",
    "beta = 1\n",
    "dpp = 'float'\n",
    "Cydtype = mappingDtype2Cytnx(dpp)\n",
    "\n",
    "        \n",
    "weightMatrix = np.array([[np.exp(beta),np.exp(-1*beta)],\n",
    "                                 [np.exp(-1*beta),np.exp(beta)]])\n",
    "weightMatrix = cy.from_numpy(weightMatrix)\n",
    "#print(weightMatrix)\n",
    "pureNode = cy.zeros((N,N,N,N),dtype=Cydtype)\n",
    "pureNode[0,0,0,0] = pureNode[1,1,1,1] = 1\n",
    "impureNode = cy.zeros((N,N,N,N),dtype=Cydtype)\n",
    "impureNode[0,0,0,0] = 1;impureNode[1,1,1,1] = -1\n",
    "Uni_pureNode = cy.UniTensor([cy.Bond(2),cy.Bond(2),cy.Bond(2),cy.Bond(2)],rowrank=2)\n",
    "Uni_pureNode.put_block(pureNode)\n",
    "Uni_impureNode = cy.UniTensor([cy.Bond(2),cy.Bond(2),cy.Bond(2),cy.Bond(2)],rowrank=2)\n",
    "Uni_impureNode.put_block(impureNode)\n",
    "vals,vecs = cy.linalg.Eig(weightMatrix)\n",
    "\n"
   ]
  },
  {
   "cell_type": "code",
   "execution_count": 9,
   "metadata": {},
   "outputs": [
    {
     "name": "stdout",
     "output_type": "stream",
     "text": [
      "<class 'cytnx.cytnx.Tensor'>\n",
      "-----------------------\n",
      "tensor Name : \n",
      "tensor Rank : 4\n",
      "block_form  : false\n",
      "is_diag     : False\n",
      "on device   : cytnx device: CPU\n",
      "            -------------      \n",
      "           /             \\     \n",
      "    -1 ____| 2         4 |____ 1  \n",
      "           |             |     \n",
      "    -2 ____| 3         2 |____ -1 \n",
      "           \\             /     \n",
      "            -------------      \n",
      "-----------------------\n",
      "tensor Name : \n",
      "tensor Rank : 4\n",
      "block_form  : false\n",
      "is_diag     : False\n",
      "on device   : cytnx device: CPU\n",
      "            -------------      \n",
      "           /             \\     \n",
      "    -1 ____| 2         4 |____ 1  \n",
      "           |             |     \n",
      "    -2 ____| 3         5 |____ 2  \n",
      "           \\             /     \n",
      "            -------------      \n"
     ]
    }
   ],
   "source": [
    "Test  = cy.UniTensor([cy.Bond(2),cy.Bond(3),cy.Bond(4),cy.Bond(5)],rowrank=2)\n",
    "# odd random.Make_normal didn't return anything, but still need to put back to original unitensor\n",
    "A = Test.get_block()\n",
    "cy.random.Make_normal(A,0,0.1)\n",
    "print(type(A))\n",
    "Test.put_block(A)\n",
    "Test.set_labels([-1,-2,1,2])\n",
    "Test2 = Test.permute([0,1,2,0]) # should it be a bug? it should give us a warrning.\n",
    "Test2.print_diagram()\n",
    "# Test = Test.permute([2,3,1,0])  # bug ? should be labels but not original index \n",
    "\n",
    "Test.print_diagram()\n",
    "# help(Test.permute)"
   ]
  },
  {
   "cell_type": "code",
   "execution_count": 7,
   "metadata": {},
   "outputs": [
    {
     "name": "stdout",
     "output_type": "stream",
     "text": [
      "-----------------------\n",
      "tensor Name : \n",
      "tensor Rank : 4\n",
      "block_form  : false\n",
      "is_diag     : False\n",
      "on device   : cytnx device: CPU\n",
      "            -------------      \n",
      "           /             \\     \n",
      "     2 ____| 2         4 |____ 3  \n",
      "           |             |     \n",
      "    -1 ____| 3         5 |____ -2 \n",
      "           \\             /     \n",
      "            -------------      \n",
      "-----------------------\n",
      "tensor Name : \n",
      "tensor Rank : 4\n",
      "block_form  : false\n",
      "is_diag     : False\n",
      "on device   : cytnx device: CPU\n",
      "            -------------      \n",
      "           /             \\     \n",
      "     0 ____| 2         2 |____ 2  \n",
      "           |             |     \n",
      "     1 ____| 4         4 |____ 3  \n",
      "           \\             /     \n",
      "            -------------      \n"
     ]
    }
   ],
   "source": [
    "A = Test.get_block()\n",
    "cy.random.Make_normal(A,0,1)\n",
    "Test.put_block(A)\n",
    "T_conj = Test.Conj()\n",
    "Test.set_labels([0,-1,1,-2])\n",
    "T_conj.set_labels([2,-1,3,-2])\n",
    "T_conj.print_diagram()\n",
    "Result = Test.contract(T_conj)\n",
    "\n",
    "# Result = Result.permute([0,1,2,3],rowrank=2)\n",
    "Result.print_diagram()"
   ]
  },
  {
   "cell_type": "code",
   "execution_count": 8,
   "metadata": {},
   "outputs": [
    {
     "ename": "RuntimeError",
     "evalue": "\n# Cytnx error occur at void cytnx::Tensor_impl::reshape_(const std::vector<long int>&)\n# error: [ERROR] new shape does not match the number of elements.\n# file : /home/travis/miniconda/envs/test-environment/conda-bld/cytnx_1600323034980/work/include/Tensor.hpp (232)",
     "output_type": "error",
     "traceback": [
      "\u001b[0;31m---------------------------------------------------------------------------\u001b[0m",
      "\u001b[0;31mRuntimeError\u001b[0m                              Traceback (most recent call last)",
      "\u001b[0;32m<ipython-input-8-339e1b835d03>\u001b[0m in \u001b[0;36m<module>\u001b[0;34m()\u001b[0m\n\u001b[1;32m      1\u001b[0m \u001b[0mAA\u001b[0m \u001b[0;34m=\u001b[0m \u001b[0mResult\u001b[0m\u001b[0;34m.\u001b[0m\u001b[0mget_block\u001b[0m\u001b[0;34m(\u001b[0m\u001b[0;34m)\u001b[0m\u001b[0;34m\u001b[0m\u001b[0;34m\u001b[0m\u001b[0m\n\u001b[0;32m----> 2\u001b[0;31m \u001b[0mAA\u001b[0m \u001b[0;34m=\u001b[0m \u001b[0mAA\u001b[0m\u001b[0;34m.\u001b[0m\u001b[0mreshape\u001b[0m\u001b[0;34m(\u001b[0m\u001b[0;36m4\u001b[0m\u001b[0;34m,\u001b[0m\u001b[0;36m4\u001b[0m\u001b[0;34m)\u001b[0m\u001b[0;34m\u001b[0m\u001b[0;34m\u001b[0m\u001b[0m\n\u001b[0m\u001b[1;32m      3\u001b[0m \u001b[0mprint\u001b[0m\u001b[0;34m(\u001b[0m\u001b[0mAA\u001b[0m\u001b[0;34m)\u001b[0m\u001b[0;34m\u001b[0m\u001b[0;34m\u001b[0m\u001b[0m\n\u001b[1;32m      4\u001b[0m \u001b[0mprint\u001b[0m\u001b[0;34m(\u001b[0m\u001b[0mtype\u001b[0m\u001b[0;34m(\u001b[0m\u001b[0mAA\u001b[0m\u001b[0;34m)\u001b[0m\u001b[0;34m)\u001b[0m\u001b[0;34m\u001b[0m\u001b[0;34m\u001b[0m\u001b[0m\n",
      "\u001b[0;31mRuntimeError\u001b[0m: \n# Cytnx error occur at void cytnx::Tensor_impl::reshape_(const std::vector<long int>&)\n# error: [ERROR] new shape does not match the number of elements.\n# file : /home/travis/miniconda/envs/test-environment/conda-bld/cytnx_1600323034980/work/include/Tensor.hpp (232)"
     ]
    }
   ],
   "source": [
    "AA = Result.get_block()\n",
    "AA = AA.reshape(4,4)\n",
    "print(AA)\n",
    "print(type(AA))"
   ]
  },
  {
   "cell_type": "code",
   "execution_count": 58,
   "metadata": {},
   "outputs": [
    {
     "name": "stdout",
     "output_type": "stream",
     "text": [
      "\n",
      "Total elem: 16\n",
      "type  : Double (Float64)\n",
      "cytnx device: CPU\n",
      "Shape : (2,2,2,2)\n",
      "[[[[9.76915e+00 2.67467e+00 ]\n",
      "   [-1.11613e+00 3.49892e+00 ]]\n",
      "  [[2.67467e+00 9.93828e-01 ]\n",
      "   [1.34970e-01 1.04591e+00 ]]]\n",
      " [[[-1.11613e+00 1.34970e-01 ]\n",
      "   [3.25440e+00 -1.04046e+00 ]]\n",
      "  [[3.49892e+00 1.04591e+00 ]\n",
      "   [-1.04046e+00 3.64861e+00 ]]]]\n",
      "\n",
      "\n",
      "\n"
     ]
    }
   ],
   "source": []
  },
  {
   "cell_type": "code",
   "execution_count": null,
   "metadata": {},
   "outputs": [],
   "source": []
  }
 ],
 "metadata": {
  "kernelspec": {
   "display_name": "Python 3",
   "language": "python",
   "name": "python3"
  },
  "language_info": {
   "codemirror_mode": {
    "name": "ipython",
    "version": 3
   },
   "file_extension": ".py",
   "mimetype": "text/x-python",
   "name": "python",
   "nbconvert_exporter": "python",
   "pygments_lexer": "ipython3",
   "version": "3.6.8"
  }
 },
 "nbformat": 4,
 "nbformat_minor": 2
}
